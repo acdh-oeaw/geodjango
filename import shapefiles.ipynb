{
 "cells": [
  {
   "cell_type": "code",
   "execution_count": 2,
   "metadata": {
    "collapsed": true
   },
   "outputs": [],
   "source": [
    "import shapefile"
   ]
  },
  {
   "cell_type": "code",
   "execution_count": 3,
   "metadata": {
    "collapsed": false
   },
   "outputs": [],
   "source": [
    "sf = shapefile.Reader(\"world/data/VGD-Oesterreich_gen_250/BEV_VGD_250_LAM_mitAttributen_shp_2016_10_02.shp\")"
   ]
  },
  {
   "cell_type": "code",
   "execution_count": 4,
   "metadata": {
    "collapsed": false
   },
   "outputs": [
    {
     "data": {
      "text/plain": [
       "[('DeletionFlag', 'C', 1, 0),\n",
       " ['KG_NR', 'C', 6, 0],\n",
       " ['KG', 'C', 50, 0],\n",
       " ['MERIDIAN', 'C', 3, 0],\n",
       " ['GKZ', 'C', 6, 0],\n",
       " ['PG', 'C', 50, 0],\n",
       " ['BKZ', 'C', 4, 0],\n",
       " ['PB', 'C', 50, 0],\n",
       " ['FA_NR', 'C', 3, 0],\n",
       " ['FA', 'C', 50, 0],\n",
       " ['GB_KZ', 'C', 4, 0],\n",
       " ['GB', 'C', 50, 0],\n",
       " ['VA_NR', 'C', 3, 0],\n",
       " ['VA', 'C', 50, 0],\n",
       " ['BL_KZ', 'C', 2, 0],\n",
       " ['BL', 'C', 50, 0],\n",
       " ['ST_KZ', 'N', 2, 0],\n",
       " ['ST', 'C', 50, 0],\n",
       " ['FL', 'N', 12, 0]]"
      ]
     },
     "execution_count": 4,
     "metadata": {},
     "output_type": "execute_result"
    }
   ],
   "source": [
    "sf.fields"
   ]
  },
  {
   "cell_type": "code",
   "execution_count": 5,
   "metadata": {
    "collapsed": true
   },
   "outputs": [],
   "source": [
    "shaperecs = sf.shapeRecords()"
   ]
  },
  {
   "cell_type": "code",
   "execution_count": 14,
   "metadata": {
    "collapsed": true
   },
   "outputs": [],
   "source": [
    "from django.contrib.gis.geos import Polygon, MultiPolygon"
   ]
  },
  {
   "cell_type": "code",
   "execution_count": 41,
   "metadata": {
    "collapsed": false
   },
   "outputs": [
    {
     "data": {
      "text/plain": [
       "[(413199.7849999964, 512448.1479999982),\n",
       " (413255.9849999994, 512448.52600000054),\n",
       " (413254.49099999666, 512609.4059999995),\n",
       " (413110.93299999833, 513015.9439999983),\n",
       " (413423.5319999978, 512970.9210000001),\n",
       " (413642.3189999983, 513176.21400000155),\n",
       " (413929.11100000143, 513061.07499999925),\n",
       " (413896.186999999, 513326.1160000004),\n",
       " (413792.58200000226, 513469.3740000017),\n",
       " (414211.16099999845, 513914.4439999983),\n",
       " (414306.7950000018, 514206.60599999875),\n",
       " (414746.18599999696, 514256.3189999983),\n",
       " (414904.5329999998, 514163.7800000012),\n",
       " (415278.0719999969, 514129.01000000164),\n",
       " (415654.66099999845, 513888.9780000001),\n",
       " (415811.1730000004, 513913.3370000012),\n",
       " (415576.01099999994, 513544.73699999973),\n",
       " (415727.41600000113, 513388.48900000006),\n",
       " (415567.97299999744, 513093.6009999998),\n",
       " (415592.58900000155, 512639.60599999875),\n",
       " (415398.09799999744, 512468.06700000167),\n",
       " (415477.6960000023, 512311.36400000006),\n",
       " (415777.50599999726, 512240.53400000185),\n",
       " (415837.54100000113, 512147.26000000164),\n",
       " (415804.00599999726, 512133.493999999),\n",
       " (415479.7470000014, 512102.28400000185),\n",
       " (415400.38700000197, 511970.26199999824),\n",
       " (414792.13700000197, 511580.6229999997),\n",
       " (414778.60400000215, 511681.40399999917),\n",
       " (414484.2250000015, 511779.77699999884),\n",
       " (414402.813000001, 512105.1579999998),\n",
       " (414214.91600000113, 512016.4919999987),\n",
       " (414190.3210000023, 511780.4079999998),\n",
       " (414074.8510000035, 511725.68299999833),\n",
       " (413693.7800000012, 511607.7899999991),\n",
       " (413570.4069999978, 511716.79399999976),\n",
       " (413643.4689999968, 511328.13599999994),\n",
       " (413589.29900000244, 511311.61100000143),\n",
       " (413544.76900000125, 511624.1629999988),\n",
       " (413398.3049999997, 511568.05900000036),\n",
       " (413439.3360000029, 511817.55999999866),\n",
       " (413582.2599999979, 511848.3979999982),\n",
       " (413521.4519999996, 512130.91699999943),\n",
       " (413359.13700000197, 512240.90199999884),\n",
       " (413340.85599999875, 512388.0450000018),\n",
       " (413199.7849999964, 512448.1479999982)]"
      ]
     },
     "execution_count": 41,
     "metadata": {},
     "output_type": "execute_result"
    }
   ],
   "source": [
    "shaperecs[0].shape.points"
   ]
  },
  {
   "cell_type": "code",
   "execution_count": 62,
   "metadata": {
    "collapsed": true
   },
   "outputs": [],
   "source": [
    "from datetime import date"
   ]
  },
  {
   "cell_type": "code",
   "execution_count": 63,
   "metadata": {
    "collapsed": false
   },
   "outputs": [],
   "source": [
    "src = Source(name='BEV Österreich, VGD', original_url=\"http://www.bev.gv.at/pls/portal/docs/PAGE/BEV_PORTAL_CONTENT_ALLGEMEIN/0200_PRODUKTE/UNENTGELTLICHE_PRODUKTE_DES_BEV/VGD-Oesterreich_gen_250.zip\", downloaded=date.today())"
   ]
  },
  {
   "cell_type": "code",
   "execution_count": 64,
   "metadata": {
    "collapsed": false
   },
   "outputs": [
    {
     "name": "stderr",
     "output_type": "stream",
     "text": [
      "/home/vagrant/.venvs/geodjango/lib/python3.5/site-packages/django/db/models/fields/__init__.py:1393: RuntimeWarning: DateTimeField Source.downloaded received a naive datetime (2017-01-13 00:00:00) while time zone support is active.\n",
      "  RuntimeWarning)\n",
      "\n"
     ]
    }
   ],
   "source": [
    "src.save()"
   ]
  },
  {
   "cell_type": "code",
   "execution_count": 66,
   "metadata": {
    "collapsed": false
   },
   "outputs": [],
   "source": [
    "sf_fields = sf.fields"
   ]
  },
  {
   "cell_type": "code",
   "execution_count": 69,
   "metadata": {
    "collapsed": false
   },
   "outputs": [
    {
     "data": {
      "text/plain": [
       "('DeletionFlag', 'C', 1, 0)"
      ]
     },
     "execution_count": 69,
     "metadata": {},
     "output_type": "execute_result"
    }
   ],
   "source": [
    "sf_fields.pop(0)"
   ]
  },
  {
   "cell_type": "code",
   "execution_count": 70,
   "metadata": {
    "collapsed": false
   },
   "outputs": [
    {
     "data": {
      "text/plain": [
       "[['KG_NR', 'C', 6, 0],\n",
       " ['KG', 'C', 50, 0],\n",
       " ['MERIDIAN', 'C', 3, 0],\n",
       " ['GKZ', 'C', 6, 0],\n",
       " ['PG', 'C', 50, 0],\n",
       " ['BKZ', 'C', 4, 0],\n",
       " ['PB', 'C', 50, 0],\n",
       " ['FA_NR', 'C', 3, 0],\n",
       " ['FA', 'C', 50, 0],\n",
       " ['GB_KZ', 'C', 4, 0],\n",
       " ['GB', 'C', 50, 0],\n",
       " ['VA_NR', 'C', 3, 0],\n",
       " ['VA', 'C', 50, 0],\n",
       " ['BL_KZ', 'C', 2, 0],\n",
       " ['BL', 'C', 50, 0],\n",
       " ['ST_KZ', 'N', 2, 0],\n",
       " ['ST', 'C', 50, 0],\n",
       " ['FL', 'N', 12, 0]]"
      ]
     },
     "execution_count": 70,
     "metadata": {},
     "output_type": "execute_result"
    }
   ],
   "source": [
    "sf_fields"
   ]
  },
  {
   "cell_type": "code",
   "execution_count": 109,
   "metadata": {
    "collapsed": true
   },
   "outputs": [],
   "source": [
    "errors_shapes = []"
   ]
  },
  {
   "cell_type": "code",
   "execution_count": 110,
   "metadata": {
    "collapsed": false
   },
   "outputs": [
    {
     "name": "stderr",
     "output_type": "stream",
     "text": [
      "GEOS_ERROR: IllegalArgumentException: Points of LinearRing do not form a closed linestring\n",
      "\n"
     ]
    }
   ],
   "source": [
    "for x in shaperecs:\n",
    "    try:\n",
    "        p = Polygon(x.shape.points, srid=31287)\n",
    "    except:\n",
    "        errors_shapes.append(x)\n",
    "        continue\n",
    "    p.transform(4326)\n",
    "    p2 = MultiPolygon(p)\n",
    "    lst_legacy = dict()\n",
    "    for indx, f in enumerate(sf_fields):\n",
    "        if type(x.record[indx]) == bytes:\n",
    "            entry = x.record[indx].decode('latin1')\n",
    "        else:\n",
    "            entry = str(x.record[indx])\n",
    "        lst_legacy[f[0]] = entry\n",
    "    if type(x.record[1]) == bytes:\n",
    "        name = x.record[1].decode('latin1')\n",
    "    else:\n",
    "        name = x.record[1]\n",
    "    a = Area(geom=p2, name=name, legacy_properties=lst_legacy, source=src)\n",
    "    a.save()"
   ]
  },
  {
   "cell_type": "code",
   "execution_count": 113,
   "metadata": {
    "collapsed": true
   },
   "outputs": [],
   "source": [
    "g = Area.objects.get(pk=4965)"
   ]
  },
  {
   "cell_type": "code",
   "execution_count": 114,
   "metadata": {
    "collapsed": false
   },
   "outputs": [
    {
     "data": {
      "text/plain": [
       "'414'"
      ]
     },
     "execution_count": 114,
     "metadata": {},
     "output_type": "execute_result"
    }
   ],
   "source": [
    "g.legacy_properties['BKZ']"
   ]
  },
  {
   "cell_type": "code",
   "execution_count": 112,
   "metadata": {
    "collapsed": false
   },
   "outputs": [
    {
     "data": {
      "text/plain": [
       "['85103',\n",
       " 'Matrei in Osttirol Land',\n",
       " 'M31',\n",
       " '70717',\n",
       " 'Matrei in Osttirol',\n",
       " '707',\n",
       " 'Lienz',\n",
       " '082',\n",
       " b'Kitzb\\xfchel Lienz',\n",
       " '850',\n",
       " 'Lienz',\n",
       " '85',\n",
       " 'Lienz',\n",
       " '7',\n",
       " 'Tirol',\n",
       " 1,\n",
       " b'\\xd6sterreich',\n",
       " 275388233]"
      ]
     },
     "execution_count": 112,
     "metadata": {},
     "output_type": "execute_result"
    }
   ],
   "source": [
    "errors_shapes[0].record"
   ]
  },
  {
   "cell_type": "code",
   "execution_count": null,
   "metadata": {
    "collapsed": true
   },
   "outputs": [],
   "source": []
  }
 ],
 "metadata": {
  "kernelspec": {
   "display_name": "Django Shell-Plus",
   "language": "python",
   "name": "django_extensions"
  },
  "language_info": {
   "codemirror_mode": {
    "name": "ipython",
    "version": 3
   },
   "file_extension": ".py",
   "mimetype": "text/x-python",
   "name": "python",
   "nbconvert_exporter": "python",
   "pygments_lexer": "ipython3",
   "version": "3.5.2+"
  }
 },
 "nbformat": 4,
 "nbformat_minor": 2
}
